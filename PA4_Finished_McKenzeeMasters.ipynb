{
 "cells": [
  {
   "cell_type": "markdown",
   "id": "b591f836",
   "metadata": {},
   "source": [
    "# Assignment 2\n",
    "## McKenzee Masters\n",
    "## CS150-01 Fall 2022\n",
    "## Version 1"
   ]
  },
  {
   "cell_type": "markdown",
   "id": "a2e70e9c",
   "metadata": {},
   "source": [
    "### append( ) allows you to add one iteam on to the end of a list at a time"
   ]
  },
  {
   "cell_type": "code",
   "execution_count": 1,
   "id": "b495406d",
   "metadata": {},
   "outputs": [],
   "source": [
    "names=list()"
   ]
  },
  {
   "cell_type": "code",
   "execution_count": 2,
   "id": "e6cdc91a",
   "metadata": {},
   "outputs": [
    {
     "name": "stdout",
     "output_type": "stream",
     "text": [
      "['Haley', 'Kaylie', 'Tori']\n"
     ]
    }
   ],
   "source": [
    "names.append('Haley')\n",
    "names.append('Kaylie')\n",
    "names.append('Tori')\n",
    "print(names)"
   ]
  },
  {
   "cell_type": "markdown",
   "id": "ba119ee0",
   "metadata": {},
   "source": [
    "### extend( ) allows you to add one iteam on to the end of a list, but each letter in the iteam takes it's own spot"
   ]
  },
  {
   "cell_type": "code",
   "execution_count": 3,
   "id": "030f9b1d",
   "metadata": {},
   "outputs": [
    {
     "name": "stdout",
     "output_type": "stream",
     "text": [
      "['Haley', 'Kaylie', 'Tori', 'C', 'a', 'l', 'e', 'b']\n"
     ]
    }
   ],
   "source": [
    "names.extend(\"Caleb\")\n",
    "print(names)"
   ]
  },
  {
   "cell_type": "markdown",
   "id": "58a63611",
   "metadata": {},
   "source": [
    "### insert( ) allows you to add an iteam into an indicated place in the list"
   ]
  },
  {
   "cell_type": "code",
   "execution_count": 4,
   "id": "6a220353",
   "metadata": {},
   "outputs": [
    {
     "name": "stdout",
     "output_type": "stream",
     "text": [
      "['Haley', 'Kaylie', 'Maddie', 'Tori', 'C', 'a', 'l', 'e', 'b']\n"
     ]
    }
   ],
   "source": [
    "names.insert(2,\"Maddie\")\n",
    "print(names)"
   ]
  },
  {
   "cell_type": "markdown",
   "id": "fcf28730",
   "metadata": {},
   "source": [
    "### remove( ) allows you to remove a specific iteam from a list"
   ]
  },
  {
   "cell_type": "code",
   "execution_count": 5,
   "id": "6b2c3955",
   "metadata": {},
   "outputs": [
    {
     "name": "stdout",
     "output_type": "stream",
     "text": [
      "['Haley', 'Kaylie', 'Tori', 'C', 'a', 'l', 'e', 'b']\n"
     ]
    }
   ],
   "source": [
    "names.remove(\"Maddie\")\n",
    "print(names)"
   ]
  },
  {
   "cell_type": "markdown",
   "id": "6b321a12",
   "metadata": {},
   "source": [
    "### count( ) counts how many times an iteam appears in your list, but it is specific"
   ]
  },
  {
   "cell_type": "code",
   "execution_count": 6,
   "id": "370b80a0",
   "metadata": {},
   "outputs": [
    {
     "data": {
      "text/plain": [
       "1"
      ]
     },
     "execution_count": 6,
     "metadata": {},
     "output_type": "execute_result"
    }
   ],
   "source": [
    "names.count(\"e\")"
   ]
  },
  {
   "cell_type": "code",
   "execution_count": 7,
   "id": "a4f24ef5",
   "metadata": {},
   "outputs": [
    {
     "data": {
      "text/plain": [
       "3"
      ]
     },
     "execution_count": 7,
     "metadata": {},
     "output_type": "execute_result"
    }
   ],
   "source": [
    "numbers_list=(3, 9, 5, 6, 3, 36, 90, 5, 3, 33, 459)\n",
    "numbers_list.count(3)"
   ]
  },
  {
   "cell_type": "markdown",
   "id": "9b97c756",
   "metadata": {},
   "source": [
    "### index( ) allows you to find where an iteam first appears in a list"
   ]
  },
  {
   "cell_type": "code",
   "execution_count": 8,
   "id": "a8424536",
   "metadata": {},
   "outputs": [
    {
     "data": {
      "text/plain": [
       "1"
      ]
     },
     "execution_count": 8,
     "metadata": {},
     "output_type": "execute_result"
    }
   ],
   "source": [
    "numbers_list.index(9)"
   ]
  },
  {
   "cell_type": "code",
   "execution_count": 9,
   "id": "d242c84a",
   "metadata": {},
   "outputs": [
    {
     "data": {
      "text/plain": [
       "0"
      ]
     },
     "execution_count": 9,
     "metadata": {},
     "output_type": "execute_result"
    }
   ],
   "source": [
    "numbers_list.index(3)"
   ]
  },
  {
   "cell_type": "markdown",
   "id": "bfef3e84",
   "metadata": {},
   "source": [
    "### pop( ) allows you to remove the last iteam in a list or the iteam from a specific index "
   ]
  },
  {
   "cell_type": "code",
   "execution_count": 10,
   "id": "f3394e96",
   "metadata": {},
   "outputs": [
    {
     "name": "stdout",
     "output_type": "stream",
     "text": [
      "['Haley', 'Kaylie', 'Tori', 'C', 'a', 'l', 'e']\n"
     ]
    }
   ],
   "source": [
    "names.pop()\n",
    "print(names)"
   ]
  },
  {
   "cell_type": "code",
   "execution_count": 11,
   "id": "9fed6e35",
   "metadata": {},
   "outputs": [
    {
     "name": "stdout",
     "output_type": "stream",
     "text": [
      "['Haley', 'Kaylie', 'Tori', 'a', 'l', 'e']\n"
     ]
    }
   ],
   "source": [
    "names.pop(3)\n",
    "print(names)"
   ]
  },
  {
   "cell_type": "markdown",
   "id": "9aafafdb",
   "metadata": {},
   "source": [
    "### sorted( ) temporarily sorts a list from smallest to largest"
   ]
  },
  {
   "cell_type": "code",
   "execution_count": 12,
   "id": "7fc976de",
   "metadata": {},
   "outputs": [
    {
     "data": {
      "text/plain": [
       "[3, 3, 3, 5, 5, 6, 9, 33, 36, 90, 459]"
      ]
     },
     "execution_count": 12,
     "metadata": {},
     "output_type": "execute_result"
    }
   ],
   "source": [
    "sorted(numbers_list)"
   ]
  },
  {
   "cell_type": "code",
   "execution_count": 13,
   "id": "a6000677",
   "metadata": {},
   "outputs": [
    {
     "name": "stdout",
     "output_type": "stream",
     "text": [
      "(3, 9, 5, 6, 3, 36, 90, 5, 3, 33, 459)\n"
     ]
    }
   ],
   "source": [
    "print(numbers_list)"
   ]
  },
  {
   "cell_type": "markdown",
   "id": "0462ea16",
   "metadata": {},
   "source": [
    "### copy( ) allows you to copy to contents from one list to another "
   ]
  },
  {
   "cell_type": "code",
   "execution_count": 14,
   "id": "0e0dba85",
   "metadata": {},
   "outputs": [
    {
     "name": "stdout",
     "output_type": "stream",
     "text": [
      "['Haley', 'Kaylie', 'Tori', 'a', 'l', 'e']\n"
     ]
    }
   ],
   "source": [
    "names_new=names.copy()\n",
    "print(names_new)"
   ]
  },
  {
   "cell_type": "code",
   "execution_count": 15,
   "id": "df082b95",
   "metadata": {},
   "outputs": [
    {
     "name": "stdout",
     "output_type": "stream",
     "text": [
      "['Haley', 'Kaylie', 'Tori', 'a', 'l', 'e', 'zach']\n",
      "['Haley', 'Kaylie', 'Tori', 'a', 'l', 'e', 'Mickey']\n"
     ]
    }
   ],
   "source": [
    "names_new.append('zach')\n",
    "names.append('Mickey')\n",
    "print(names_new)\n",
    "print(names)"
   ]
  },
  {
   "cell_type": "markdown",
   "id": "5710abbd",
   "metadata": {},
   "source": [
    "### clear(  ) empties a list of all its contents"
   ]
  },
  {
   "cell_type": "code",
   "execution_count": 16,
   "id": "c6904716",
   "metadata": {},
   "outputs": [
    {
     "name": "stdout",
     "output_type": "stream",
     "text": [
      "[]\n"
     ]
    }
   ],
   "source": [
    "names.clear()\n",
    "print(names)"
   ]
  },
  {
   "cell_type": "markdown",
   "id": "1fe06170",
   "metadata": {},
   "source": [
    "### list(  ) takes each letter from an iteam to create a list "
   ]
  },
  {
   "cell_type": "code",
   "execution_count": 17,
   "id": "09aa27ef",
   "metadata": {},
   "outputs": [],
   "source": [
    "x = list('apple')"
   ]
  },
  {
   "cell_type": "code",
   "execution_count": 18,
   "id": "99be50f3",
   "metadata": {},
   "outputs": [
    {
     "name": "stdout",
     "output_type": "stream",
     "text": [
      "['a', 'p', 'p', 'l', 'e']\n"
     ]
    }
   ],
   "source": [
    "print(x)"
   ]
  },
  {
   "cell_type": "markdown",
   "id": "01595ef4",
   "metadata": {},
   "source": [
    "### len(  ) tells you how many iteams are in a list"
   ]
  },
  {
   "cell_type": "code",
   "execution_count": 19,
   "id": "84965871",
   "metadata": {},
   "outputs": [
    {
     "data": {
      "text/plain": [
       "3"
      ]
     },
     "execution_count": 19,
     "metadata": {},
     "output_type": "execute_result"
    }
   ],
   "source": [
    "names=('Kay','Goose','becca')\n",
    "len(names)"
   ]
  },
  {
   "cell_type": "code",
   "execution_count": 20,
   "id": "25d16dc5",
   "metadata": {},
   "outputs": [
    {
     "data": {
      "text/plain": [
       "11"
      ]
     },
     "execution_count": 20,
     "metadata": {},
     "output_type": "execute_result"
    }
   ],
   "source": [
    "len(numbers_list)"
   ]
  },
  {
   "cell_type": "markdown",
   "id": "6bce1fe4",
   "metadata": {},
   "source": [
    "### max(  ) returns the largest value from the list"
   ]
  },
  {
   "cell_type": "code",
   "execution_count": 21,
   "id": "8dcd5c10",
   "metadata": {},
   "outputs": [
    {
     "data": {
      "text/plain": [
       "459"
      ]
     },
     "execution_count": 21,
     "metadata": {},
     "output_type": "execute_result"
    }
   ],
   "source": [
    "max(numbers_list)"
   ]
  },
  {
   "cell_type": "code",
   "execution_count": 22,
   "id": "a44d14ea",
   "metadata": {},
   "outputs": [
    {
     "data": {
      "text/plain": [
       "'zach'"
      ]
     },
     "execution_count": 22,
     "metadata": {},
     "output_type": "execute_result"
    }
   ],
   "source": [
    "max(names_new)"
   ]
  },
  {
   "cell_type": "markdown",
   "id": "afa0e91e",
   "metadata": {},
   "source": [
    "### min(  ) returns the smallest value from the list"
   ]
  },
  {
   "cell_type": "code",
   "execution_count": 23,
   "id": "91dfd11b",
   "metadata": {},
   "outputs": [
    {
     "data": {
      "text/plain": [
       "3"
      ]
     },
     "execution_count": 23,
     "metadata": {},
     "output_type": "execute_result"
    }
   ],
   "source": [
    "min(numbers_list)"
   ]
  },
  {
   "cell_type": "code",
   "execution_count": 24,
   "id": "853bfad6",
   "metadata": {},
   "outputs": [
    {
     "data": {
      "text/plain": [
       "'Haley'"
      ]
     },
     "execution_count": 24,
     "metadata": {},
     "output_type": "execute_result"
    }
   ],
   "source": [
    "min(names_new)"
   ]
  },
  {
   "cell_type": "code",
   "execution_count": null,
   "id": "f430fb0e",
   "metadata": {},
   "outputs": [],
   "source": []
  }
 ],
 "metadata": {
  "kernelspec": {
   "display_name": "Python 3 (ipykernel)",
   "language": "python",
   "name": "python3"
  },
  "language_info": {
   "codemirror_mode": {
    "name": "ipython",
    "version": 3
   },
   "file_extension": ".py",
   "mimetype": "text/x-python",
   "name": "python",
   "nbconvert_exporter": "python",
   "pygments_lexer": "ipython3",
   "version": "3.9.12"
  }
 },
 "nbformat": 4,
 "nbformat_minor": 5
}
